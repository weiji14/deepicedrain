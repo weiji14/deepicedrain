{
 "cells": [
  {
   "cell_type": "markdown",
   "metadata": {
    "lines_to_next_cell": 2
   },
   "source": [
    "# Crossover Track Analysis\n",
    "\n",
    "To increase the temporal resolution of\n",
    "our ice elevation change analysis\n",
    "(i.e. at time periods less than\n",
    "the 91 day repeat cycle of ICESat-2),\n",
    "we can look at the locations where the\n",
    "ICESat-2 tracks intersect and get the\n",
    "height values there!\n",
    "Uses [x2sys_cross](https://docs.generic-mapping-tools.org/6.1/supplements/x2sys/x2sys_cross).\n",
    "\n",
    "References:\n",
    "- Wessel, P. (2010). Tools for analyzing intersecting tracks: The x2sys package.\n",
    "Computers & Geosciences, 36(3), 348–354. https://doi.org/10.1016/j.cageo.2009.05.009"
   ]
  },
  {
   "cell_type": "code",
   "execution_count": null,
   "metadata": {},
   "outputs": [],
   "source": [
    "# Initialize X2SYS database in the X2SYS/ICESAT2 folder\n",
    "tag = \"X2SYS\"\n",
    "os.environ[\"X2SYS_HOME\"] = os.path.abspath(tag)\n",
    "os.getcwd()\n",
    "pygmt.x2sys_init(\n",
    "    tag=\"ICESAT2\",\n",
    "    fmtfile=f\"{tag}/ICESAT2/xyht\",\n",
    "    suffix=\"tsv\",\n",
    "    units=[\"de\", \"se\"],  # distance in metres, speed in metres per second\n",
    "    gap=\"d250e\",  # distance gap up to 250 metres allowed\n",
    "    force=True,\n",
    "    verbose=\"q\",\n",
    ")"
   ]
  },
  {
   "cell_type": "code",
   "execution_count": null,
   "metadata": {
    "lines_to_next_cell": 2
   },
   "outputs": [],
   "source": [
    "# Run crossover analysis on all tracks\n",
    "rgts: list = [135, 327, 388, 577, 1080, 1272]  # Whillans upstream\n",
    "# rgts: list = [236, 501, 562, 1181]  # Whillans_downstream\n",
    "tracks = [f\"{tag}/track_{i}.tsv\" for i in rgts]\n",
    "assert all(os.path.exists(k) for k in tracks)\n",
    "\n",
    "# Parallelized paired crossover analysis\n",
    "futures: list = []\n",
    "for track1, track2 in itertools.combinations(rgts, r=2):\n",
    "    future = client.submit(\n",
    "        key=f\"{track1}_{track2}\",\n",
    "        func=pygmt.x2sys_cross,\n",
    "        tracks=[f\"{tag}/track_{track1}.tsv\", f\"{tag}/track_{track2}.tsv\"],\n",
    "        tag=\"ICESAT2\",\n",
    "        region=[-460000, -400000, -560000, -500000],\n",
    "        interpolation=\"l\",  # linear interpolation\n",
    "        coe=\"e\",  # external crossovers\n",
    "        trackvalues=True,  # Get track 1 height (h_1) and track 2 height (h_2)\n",
    "        # trackvalues=False,  # Get crossover error (h_X) and mean height value (h_M)\n",
    "        # outfile=\"xover_236_562.tsv\"\n",
    "    )\n",
    "    futures.append(future)"
   ]
  },
  {
   "cell_type": "code",
   "execution_count": null,
   "metadata": {
    "lines_to_next_cell": 2
   },
   "outputs": [],
   "source": [
    "crossovers: dict = {}\n",
    "for f in tqdm.tqdm(\n",
    "    iterable=dask.distributed.as_completed(futures=futures), total=len(futures)\n",
    "):\n",
    "    if f.status != \"error\":  # skip those track pairs which don't intersect\n",
    "        crossovers[f.key] = f.result().dropna().reset_index(drop=True)\n",
    "\n",
    "df_cross: pd.DataFrame = pd.concat(objs=crossovers, names=[\"track1_track2\", \"id\"])\n",
    "df: pd.DataFrame = df_cross.reset_index(level=\"track1_track2\").reset_index(drop=True)\n",
    "# Report on how many unique crossover intersections there were\n",
    "# df.plot.scatter(x=\"x\", y=\"y\")  # quick plot of our crossover points\n",
    "print(\n",
    "    f\"{len(df.groupby(by=['x', 'y']))} crossover intersection point locations found \"\n",
    "    f\"with {len(df)} crossover height-time pairs \"\n",
    "    f\"over {len(tracks)} tracks\"\n",
    ")"
   ]
  },
  {
   "cell_type": "code",
   "execution_count": null,
   "metadata": {},
   "outputs": [],
   "source": [
    "# Calculate crossover error\n",
    "df[\"h_X\"]: pd.Series = df.h_2 - df.h_1  # crossover error (i.e. height difference)\n",
    "df[\"t_D\"]: pd.Series = df.t_2 - df.t_1  # elapsed time in ns (i.e. time difference)\n",
    "ns_in_yr: int = (365.25 * 24 * 60 * 60 * 1_000_000_000)  # nanoseconds in a year\n",
    "df[\"dhdt\"]: pd.Series = df.h_X / (df.t_D.astype(np.int64) / ns_in_yr)"
   ]
  },
  {
   "cell_type": "code",
   "execution_count": null,
   "metadata": {
    "lines_to_next_cell": 2
   },
   "outputs": [],
   "source": [
    "# Get some summary statistics of our crossover errors\n",
    "sumstats: pd.DataFrame = df[[\"h_X\", \"t_D\", \"dhdt\"]].describe()\n",
    "# Find location with highest absolute crossover error, and most sudden height change\n",
    "max_h_X: pd.Series = df.iloc[np.nanargmax(df.h_X.abs())]  # highest crossover error\n",
    "max_dhdt: pd.Series = df.iloc[df.dhdt.argmax()]  # most sudden change in height"
   ]
  },
  {
   "cell_type": "markdown",
   "metadata": {},
   "source": [
    "### 2D Map view of crossover points\n",
    "\n",
    "Bird's eye view of the crossover points\n",
    "overlaid on top of the ICESat-2 tracks."
   ]
  },
  {
   "cell_type": "code",
   "execution_count": null,
   "metadata": {
    "lines_to_next_cell": 2
   },
   "outputs": [],
   "source": [
    "# 2D plot of crossover locations\n",
    "var: str = \"h_X\"\n",
    "fig = pygmt.Figure()\n",
    "# Setup basemap\n",
    "region = np.array([df.x.min(), df.x.max(), df.y.min(), df.y.max()])\n",
    "buffer = np.array([-2000, +2000, -2000, +2000])\n",
    "pygmt.makecpt(cmap=\"batlow\", series=[sumstats[var][\"25%\"], sumstats[var][\"75%\"]])\n",
    "# Map frame in metre units\n",
    "fig.basemap(frame=\"f\", region=region + buffer, projection=\"X8c\")\n",
    "# Plot actual track points\n",
    "for track in tracks:\n",
    "    fig.plot(data=track, color=\"green\", style=\"c0.01c\")\n",
    "# Plot crossover point locations\n",
    "fig.plot(x=df.x, y=df.y, color=df.h_X, cmap=True, style=\"c0.1c\", pen=\"thinnest\")\n",
    "# Map frame in kilometre units\n",
    "fig.basemap(\n",
    "    frame=[\n",
    "        \"WSne\",\n",
    "        'xaf+l\"Polar Stereographic X (km)\"',\n",
    "        'yaf+l\"Polar Stereographic Y (km)\"',\n",
    "    ],\n",
    "    region=(region + buffer) / 1000,\n",
    "    projection=\"X8c\",\n",
    ")\n",
    "fig.colorbar(position=\"JMR\", frame=['x+l\"Crossover Error\"', \"y+lm\"])\n",
    "fig.savefig(\"figures/crossover_area.png\")\n",
    "fig.show()"
   ]
  },
  {
   "cell_type": "markdown",
   "metadata": {},
   "source": [
    "### 1D plots of height changing over time\n",
    "\n",
    "Plot height change over time at:\n",
    "\n",
    "1. One single crossover point location\n",
    "2. Many crossover locations over an area"
   ]
  },
  {
   "cell_type": "code",
   "execution_count": null,
   "metadata": {},
   "outputs": [],
   "source": [
    "# Tidy up dataframe first using pd.wide_to_long\n",
    "# I.e. convert 't_1', 't_2', 'h_1', 'h_2' columns into just 't' and 'h'.\n",
    "df[\"id\"] = df.index\n",
    "df_th: pd.DataFrame = pd.wide_to_long(\n",
    "    df=df[[\"id\", \"track1_track2\", \"x\", \"y\", \"t_1\", \"t_2\", \"h_1\", \"h_2\"]],\n",
    "    stubnames=[\"t\", \"h\"],\n",
    "    i=\"id\",\n",
    "    j=\"track\",\n",
    "    sep=\"_\",\n",
    ")\n",
    "df_th = df_th.reset_index(level=\"track\").drop_duplicates(ignore_index=True)"
   ]
  },
  {
   "cell_type": "code",
   "execution_count": null,
   "metadata": {},
   "outputs": [],
   "source": [
    "# 1D Plot at location with **maximum** absolute crossover height error (max_h_X)\n",
    "df_max = df_th.query(expr=\"x == @max_h_X.x & y == @max_h_X.y\").sort_values(by=\"t\")\n",
    "track1, track2 = df_max.track1_track2.iloc[0].split(\"_\")\n",
    "print(f\"{round(max_h_X.h_X, 2)} metres height change at {max_h_X.x}, {max_h_X.y}\")\n",
    "t_min = (df_max.t.min() - pd.Timedelta(2, unit=\"W\")).isoformat()\n",
    "t_max = (df_max.t.max() + pd.Timedelta(2, unit=\"W\")).isoformat()\n",
    "h_min = df_max.h.min() - 0.2\n",
    "h_max = df_max.h.max() + 0.4\n",
    "\n",
    "fig = pygmt.Figure()\n",
    "with pygmt.config(\n",
    "    FONT_ANNOT_PRIMARY=\"9p\", FORMAT_TIME_PRIMARY_MAP=\"abbreviated\", FORMAT_DATE_MAP=\"o\"\n",
    "):\n",
    "    fig.basemap(\n",
    "        projection=\"X12c/8c\",\n",
    "        region=[t_min, t_max, h_min, h_max],\n",
    "        frame=[\n",
    "            \"WSne\",\n",
    "            \"pxa1Of1o+lDate\",  # primary time axis, 1 mOnth annotation and minor axis\n",
    "            \"sx1Y\",  # secondary time axis, 1 Year intervals\n",
    "            'yaf+l\"Elevation at crossover (m)\"',\n",
    "        ],\n",
    "    )\n",
    "fig.text(\n",
    "    text=f\"Track {track1} and {track2} crossover\",\n",
    "    position=\"TC\",\n",
    "    offset=\"jTC0c/0.2c\",\n",
    "    V=\"q\",\n",
    ")\n",
    "# Plot data points\n",
    "fig.plot(x=df_max.t, y=df_max.h, style=\"c0.15c\", color=\"darkblue\", pen=\"thin\")\n",
    "# Plot dashed line connecting points\n",
    "fig.plot(x=df_max.t, y=df_max.h, pen=f\"faint,blue,-\")\n",
    "fig.savefig(f\"figures/crossover_{track1}_{track2}_{min_date}_{max_date}.png\")\n",
    "fig.show()"
   ]
  },
  {
   "cell_type": "code",
   "execution_count": null,
   "metadata": {},
   "outputs": [],
   "source": [
    "# 1D plots of a crossover area, all the height points over time\n",
    "t_min = (df_th.t.min() - pd.Timedelta(1, unit=\"W\")).isoformat()\n",
    "t_max = (df_th.t.max() + pd.Timedelta(1, unit=\"W\")).isoformat()\n",
    "h_min = df_th.h.min() - 0.2\n",
    "h_max = df_th.h.max() + 0.2\n",
    "\n",
    "fig = pygmt.Figure()\n",
    "with pygmt.config(\n",
    "    FONT_ANNOT_PRIMARY=\"9p\", FORMAT_TIME_PRIMARY_MAP=\"abbreviated\", FORMAT_DATE_MAP=\"o\"\n",
    "):\n",
    "    fig.basemap(\n",
    "        projection=\"X12c/12c\",\n",
    "        region=[t_min, t_max, h_min, h_max],\n",
    "        frame=[\n",
    "            \"WSne\",\n",
    "            \"pxa1Of1o+lDate\",  # primary time axis, 1 mOnth annotation and minor axis\n",
    "            \"sx1Y\",  # secondary time axis, 1 Year intervals\n",
    "            'yaf+l\"Elevation at crossover (m)\"',\n",
    "        ],\n",
    "    )\n",
    "\n",
    "crossovers = df_th.groupby(by=[\"x\", \"y\"])\n",
    "pygmt.makecpt(cmap=\"categorical\", series=[1, len(crossovers) + 1, 1])\n",
    "for i, ((x_coord, y_coord), indexes) in enumerate(crossovers.indices.items()):\n",
    "    df_ = df_th.loc[indexes].sort_values(by=\"t\")\n",
    "    # if df_.h.max() - df_.h.min() > 1.0:  # plot only > 1 metre height change\n",
    "    track1, track2 = df_.track1_track2.iloc[0].split(\"_\")\n",
    "    label = f'\"Track {track1} {track2}\"'\n",
    "    fig.plot(x=df_.t, y=df_.h, Z=i, style=\"c0.1c\", cmap=True, pen=\"thin+z\", label=label)\n",
    "    # Plot line connecting points\n",
    "    fig.plot(\n",
    "        x=df_.t, y=df_.h, Z=i, pen=f\"faint,+z,-\", cmap=True\n",
    "    )  # , label=f'\"+g-1l+s0.15c\"')\n",
    "fig.legend(position=\"JMR+JMR+o0.2c\", box=\"+gwhite+p1p\")\n",
    "fig.savefig(f\"figures/crossover_many_{min_date}_{max_date}.png\")\n",
    "fig.show()"
   ]
  },
  {
   "cell_type": "code",
   "execution_count": null,
   "metadata": {},
   "outputs": [],
   "source": []
  }
 ],
 "metadata": {
  "jupytext": {
   "encoding": "# -*- coding: utf-8 -*-",
   "formats": "ipynb,py:hydrogen"
  },
  "kernelspec": {
   "display_name": "deepicedrain",
   "language": "python",
   "name": "deepicedrain"
  },
  "language_info": {
   "codemirror_mode": {
    "name": "ipython",
    "version": 3
   },
   "file_extension": ".py",
   "mimetype": "text/x-python",
   "name": "python",
   "nbconvert_exporter": "python",
   "pygments_lexer": "ipython3",
   "version": "3.8.3"
  }
 },
 "nbformat": 4,
 "nbformat_minor": 4
}
